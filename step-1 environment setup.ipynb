{
 "cells": [
  {
   "cell_type": "markdown",
   "metadata": {},
   "source": [
    "# 1 when there is no docker images provided\n",
    "\n",
    "## install environment for poc \n",
    "\n",
    "- install ubuntu16.04+\n",
    "- install nvidia-docker2\n",
    "- install python3\n",
    "- install python3-pip\n",
    "- pip install pipenv\n",
    "---\n",
    "## that's all\n"
   ]
  },
  {
   "cell_type": "markdown",
   "metadata": {},
   "source": [
    "# 2 when there is a docker images provided\n",
    "\n",
    "## install environment for poc \n",
    "\n",
    "- install ubuntu16.04+\n",
    "- install nvidia-docker2\n",
    "- sudo nvidia-docker run -p 8888:8888 -it pockit /bin/bash\n",
    "---\n",
    "## that's all\n"
   ]
  },
  {
   "cell_type": "code",
   "execution_count": null,
   "metadata": {},
   "outputs": [],
   "source": []
  }
 ],
 "metadata": {
  "kernelspec": {
   "display_name": "Python 3",
   "language": "python",
   "name": "python3"
  },
  "language_info": {
   "codemirror_mode": {
    "name": "ipython",
    "version": 3
   },
   "file_extension": ".py",
   "mimetype": "text/x-python",
   "name": "python",
   "nbconvert_exporter": "python",
   "pygments_lexer": "ipython3",
   "version": "3.5.2"
  }
 },
 "nbformat": 4,
 "nbformat_minor": 2
}
