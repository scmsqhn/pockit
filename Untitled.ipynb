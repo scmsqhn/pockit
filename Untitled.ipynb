{
 "cells": [
  {
   "cell_type": "markdown",
   "metadata": {},
   "source": [
    "# xgboost 对于已经向量化的结果进行分类"
   ]
  },
  {
   "cell_type": "code",
   "execution_count": null,
   "metadata": {},
   "outputs": [],
   "source": [
    "# import 三方包\n",
    "import numpy as np \n",
    "import pandas as pd \n",
    "import xgboost as xgb \n",
    "from sklearn.cross_validation \n",
    "import train_test_split \n",
    "import os import csv \n",
    "from xgboost.sklearn import XGBClassifier\n",
    "from sklearn import cross_validation, metrics   #Additional scklearn functions\n",
    "from sklearn.grid_search import GridSearchCV   #Perforing grid search\n",
    "\n",
    "import matplotlib.pylab as plt\n",
    "from matplotlib.pylab import rcParams\n",
    "\n",
    "#记录程序运行时间\n",
    "import time \n",
    "start_time = time.time() #读入数据"
   ]
  },
  {
   "cell_type": "code",
   "execution_count": null,
   "metadata": {},
   "outputs": [],
   "source": [
    "current_dir = os.path.abspath('.') \n",
    "train = pd.read_csv(\"train_data.csv\") \n",
    "tests = pd.read_csv(\"test_data.csv\") \n",
    "params={ 'booster':'gbtree',\n",
    "    'objective': 'reg:linear', #多分类的问题\n",
    "    'gamma':0.1,  # 用于控制是否后剪枝的参数,越大越保守，一般0.1、0.2这样子。\n",
    "    'max_depth':12, # 构建树的深度，越大越容易过拟合\n",
    "    'lambda':2,  # 控制模型复杂度的权重值的L2正则化项参数，参数越大，模型越不容易过拟合。\n",
    "    'subsample':0.7, # 随机采样训练样本\n",
    "    'colsample_bytree':0.7, # 生成树时进行的列采样\n",
    "    'min_child_weight':3,\n",
    "    # 这个参数默认是 1，是每个叶子里面 h 的和至少是多少，对正负样本不均衡时的 0-1 分类而言\n",
    "    #，假设 h 在 0.01 附近，min_child_weight 为 1 意味着叶子节点中最少需要包含 100 个样本。\n",
    "    #这个参数非常影响结果，控制叶子节点中二阶导的和的最小值，该参数值越小，越容易 overfitting。\n",
    "    'silent':0 ,#设置成1则没有运行信息输出，最好是设置为0.\n",
    "    'eta': 0.007, # 如同学习率\n",
    "    'seed':1000,\n",
    "    # 'nthread':7,# cpu 线程数\n",
    "    #'eval_metric': 'auc'\n",
    "} \n",
    "plst = list(params.items()) \n",
    "num_rounds =5000 # 迭代次数\n",
    "\n",
    "train_xy,val = train_test_split(train, test_size = 0.3,random_state=1) #random_state is of big influence for val-auc\n",
    "y = train_xy.y \n",
    "X = train_xy.drop(['y'],axis=1) \n",
    "val_y = val.y \n",
    "val_X = val.drop(['y'],axis=1) \n",
    "xgb_val = xgb.DMatrix(val_X,label=val_y) \n",
    "xgb_train = xgb.DMatrix(X, label=y) \n",
    "xgb_test = xgb.DMatrix(tests) \n",
    "print(type(X)) \n",
    "# print(type(xgb_test))\n",
    "time.sleep(10000) watchlist = [(xgb_train, 'train'),(xgb_val, 'val')] # training model\n",
    "# early_stopping_rounds 当设置的迭代次数较大时，early_stopping_rounds 可在一定的迭代次数内准确率没有提升就停止训练\n",
    "model = xgb.train(plst, xgb_train, num_rounds, watchlist,early_stopping_rounds=100) \n",
    "model.save_model('./xgb.model') # 用于存储训练出的模型\n",
    "print (\"best best_ntree_limit\",model.best_ntree_limit) \n",
    "print (\"跑到这里了model.predict\") \n",
    "preds = model.predict(xgb_test,ntree_limit=model.best_ntree_limit) \n",
    "preds_list=preds.tolist() \n",
    "preds_list_=[] \n",
    "for item in preds_list: \n",
    "    preds_list_.append([item]) \n",
    "    # print(preds_list_)\n",
    "    # print(preds_list)\n",
    "    # print(len(preds_list),type(preds_list))\n",
    "\n",
    "# np.savetxt('xgb_submission.csv',np.c_[range(1,len(tests)+1),preds],delimiter=',',header='ID,y',comments='',fmt='%d')\n",
    "with open(os.path.join(current_dir, 'result.csv'), 'w', encoding='utf8', newline='') as csvfile: \n",
    "    writer = csv.writer(csvfile) #先写入columns_name\n",
    "    writer.writerow([\"pre_y\"]) #写入多行用writerows\n",
    "    writer.writerows(preds_list_) #输出运行时长\n",
    "cost_time = time.time()-start_time \n",
    "print (\"xgboost success!\",'\\n',\"cost time:\",cost_time,\"(s)\")"
   ]
  }
 ],
 "metadata": {
  "kernelspec": {
   "display_name": "Python 3",
   "language": "python",
   "name": "python3"
  },
  "language_info": {
   "codemirror_mode": {
    "name": "ipython",
    "version": 3
   },
   "file_extension": ".py",
   "mimetype": "text/x-python",
   "name": "python",
   "nbconvert_exporter": "python",
   "pygments_lexer": "ipython3",
   "version": "3.5.2"
  }
 },
 "nbformat": 4,
 "nbformat_minor": 2
}
